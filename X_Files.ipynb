{
 "cells": [
  {
   "cell_type": "markdown",
   "metadata": {
    "colab_type": "text",
    "id": "f_HIIBCr1mvd"
   },
   "source": [
    "# The X-files problem\n",
    "\n",
    "## Introduction of the problem:\n",
    "So this problem has two main objectives:\n",
    "\n",
    "* Tell the Strange Man where he should go in order to see some kind of UFO\n",
    "* Present the findings in an appealing way to his shareholders"
   ]
  },
  {
   "cell_type": "code",
   "execution_count": 7,
   "metadata": {
    "colab": {},
    "colab_type": "code",
    "id": "2Hc8kFjt2Zni"
   },
   "outputs": [],
   "source": [
    "import pandas as pd\n",
    "import numpy as np\n",
    "import matplotlib.pyplot as plt\n",
    "import seaborn as sns"
   ]
  },
  {
   "cell_type": "code",
   "execution_count": 8,
   "metadata": {
    "colab": {},
    "colab_type": "code",
    "id": "NkatjaHf50wT"
   },
   "outputs": [],
   "source": [
    "df = pd.read_csv('UFO_sightings.csv', low_memory = False, na_filter = True, skip_blank_lines = True)\n",
    "df.columns = ['datetime', 'city', 'state', 'country', 'shape', 'duration1',\n",
    "       'duration2', 'comments', 'dateposted', 'lat','lon']"
   ]
  },
  {
   "cell_type": "code",
   "execution_count": 9,
   "metadata": {
    "colab": {
     "base_uri": "https://localhost:8080/",
     "height": 34
    },
    "colab_type": "code",
    "id": "i3xbDlvBn1xl",
    "outputId": "f79c9943-7188-479f-c01f-6f5649d3957b"
   },
   "outputs": [
    {
     "data": {
      "text/plain": [
       "(80332, 11)"
      ]
     },
     "execution_count": 9,
     "metadata": {},
     "output_type": "execute_result"
    }
   ],
   "source": [
    "df.shape"
   ]
  },
  {
   "cell_type": "code",
   "execution_count": 10,
   "metadata": {
    "colab": {
     "base_uri": "https://localhost:8080/",
     "height": 221
    },
    "colab_type": "code",
    "id": "-TKAnFyqrWUH",
    "outputId": "5babab34-c312-46ec-abfe-528f4bc98c4e"
   },
   "outputs": [
    {
     "data": {
      "text/plain": [
       "datetime       object\n",
       "city           object\n",
       "state          object\n",
       "country        object\n",
       "shape          object\n",
       "duration1      object\n",
       "duration2      object\n",
       "comments       object\n",
       "dateposted     object\n",
       "lat            object\n",
       "lon           float64\n",
       "dtype: object"
      ]
     },
     "execution_count": 10,
     "metadata": {},
     "output_type": "execute_result"
    }
   ],
   "source": [
    "df.dtypes"
   ]
  },
  {
   "cell_type": "code",
   "execution_count": 11,
   "metadata": {
    "colab": {
     "base_uri": "https://localhost:8080/",
     "height": 111
    },
    "colab_type": "code",
    "id": "lMRRhSgd51Dk",
    "outputId": "2b61d52d-b7bf-4c5e-f01a-1dfb0a131ed9"
   },
   "outputs": [
    {
     "data": {
      "text/html": [
       "<div>\n",
       "<style scoped>\n",
       "    .dataframe tbody tr th:only-of-type {\n",
       "        vertical-align: middle;\n",
       "    }\n",
       "\n",
       "    .dataframe tbody tr th {\n",
       "        vertical-align: top;\n",
       "    }\n",
       "\n",
       "    .dataframe thead th {\n",
       "        text-align: right;\n",
       "    }\n",
       "</style>\n",
       "<table border=\"1\" class=\"dataframe\">\n",
       "  <thead>\n",
       "    <tr style=\"text-align: right;\">\n",
       "      <th></th>\n",
       "      <th>datetime</th>\n",
       "      <th>city</th>\n",
       "      <th>state</th>\n",
       "      <th>country</th>\n",
       "      <th>shape</th>\n",
       "      <th>duration1</th>\n",
       "      <th>duration2</th>\n",
       "      <th>comments</th>\n",
       "      <th>dateposted</th>\n",
       "      <th>lat</th>\n",
       "      <th>lon</th>\n",
       "    </tr>\n",
       "  </thead>\n",
       "  <tbody>\n",
       "    <tr>\n",
       "      <th>0</th>\n",
       "      <td>10/10/1949 20:30</td>\n",
       "      <td>san marcos</td>\n",
       "      <td>tx</td>\n",
       "      <td>us</td>\n",
       "      <td>cylinder</td>\n",
       "      <td>2700</td>\n",
       "      <td>45 minutes</td>\n",
       "      <td>This event took place in early fall around 194...</td>\n",
       "      <td>4/27/2004</td>\n",
       "      <td>29.8830556</td>\n",
       "      <td>-97.941111</td>\n",
       "    </tr>\n",
       "    <tr>\n",
       "      <th>1</th>\n",
       "      <td>10/10/1949 21:00</td>\n",
       "      <td>lackland afb</td>\n",
       "      <td>tx</td>\n",
       "      <td>NaN</td>\n",
       "      <td>light</td>\n",
       "      <td>7200</td>\n",
       "      <td>1-2 hrs</td>\n",
       "      <td>1949 Lackland AFB&amp;#44 TX.  Lights racing acros...</td>\n",
       "      <td>12/16/2005</td>\n",
       "      <td>29.38421</td>\n",
       "      <td>-98.581082</td>\n",
       "    </tr>\n",
       "  </tbody>\n",
       "</table>\n",
       "</div>"
      ],
      "text/plain": [
       "           datetime          city state country     shape duration1  \\\n",
       "0  10/10/1949 20:30    san marcos    tx      us  cylinder      2700   \n",
       "1  10/10/1949 21:00  lackland afb    tx     NaN     light      7200   \n",
       "\n",
       "    duration2                                           comments  dateposted  \\\n",
       "0  45 minutes  This event took place in early fall around 194...   4/27/2004   \n",
       "1     1-2 hrs  1949 Lackland AFB&#44 TX.  Lights racing acros...  12/16/2005   \n",
       "\n",
       "          lat        lon  \n",
       "0  29.8830556 -97.941111  \n",
       "1    29.38421 -98.581082  "
      ]
     },
     "execution_count": 11,
     "metadata": {},
     "output_type": "execute_result"
    }
   ],
   "source": [
    "df.head(2)"
   ]
  },
  {
   "cell_type": "code",
   "execution_count": 12,
   "metadata": {
    "colab": {
     "base_uri": "https://localhost:8080/",
     "height": 238
    },
    "colab_type": "code",
    "id": "Q6GLADKquAJv",
    "outputId": "eb7d01e4-9a6f-46c5-8380-156c2116982a"
   },
   "outputs": [
    {
     "name": "stdout",
     "output_type": "stream",
     "text": [
      "NA values:\n"
     ]
    },
    {
     "data": {
      "text/plain": [
       "datetime      0.000000\n",
       "city          0.000000\n",
       "state         0.072163\n",
       "country       0.120375\n",
       "shape         0.024050\n",
       "duration1     0.000000\n",
       "duration2     0.000000\n",
       "comments      0.000187\n",
       "dateposted    0.000000\n",
       "lat           0.000000\n",
       "lon           0.000000\n",
       "dtype: float64"
      ]
     },
     "execution_count": 12,
     "metadata": {},
     "output_type": "execute_result"
    }
   ],
   "source": [
    "df_na = df.isna().sum()\n",
    "print('NA values:')\n",
    "df_na/len(df)"
   ]
  },
  {
   "cell_type": "markdown",
   "metadata": {
    "colab_type": "text",
    "id": "xMcGxz1051Gg"
   },
   "source": [
    "## Description of the variables\n",
    "\n",
    "* datetime:\tdate and time of event\tString\n",
    "* city:\tName of the city\tString\n",
    "* state:\tState code of event\tString\n",
    "* country:\tCountry code of event\tString\n",
    "* shape:\tShape of the UFO\tString\n",
    "* duration1:\tDuration of the sighting in seconds Numeric\n",
    "* duration2:\tDurantion of the sighting in hours and minutes\tString\n",
    "* comments:\tdescription of the event\tString\n",
    "* date: posted\tDate when the event was reported\tDate\n",
    "* latitude:\tLatitude of the city\tNumeric\n",
    "* longitude:\tLongitude of the city\tNumeric\n",
    "\n",
    "## Data completeness and quality:\n",
    "\n",
    "So the data consists of rows filled by people who think they might have seen an UFO. The dataset contains around 80 thousands rows and there is an important percentage of data which lacks some information.\n",
    "\n",
    "Considering the nature of the problem I chose not to drop those rows, only to fix some columns which might be useful in the future.\n",
    "\n",
    "\n"
   ]
  },
  {
   "cell_type": "code",
   "execution_count": 13,
   "metadata": {
    "colab": {},
    "colab_type": "code",
    "id": "A6J0hzgErrY-"
   },
   "outputs": [],
   "source": [
    "df['lat'] = pd.to_numeric(df['lat'],errors = 'coerce') \n",
    "df['lon'] = pd.to_numeric(df['lon'], errors='coerce')\n",
    "df['datetime'] = pd.to_datetime(df['datetime'],errors='coerce')"
   ]
  },
  {
   "cell_type": "code",
   "execution_count": 14,
   "metadata": {
    "colab": {
     "base_uri": "https://localhost:8080/",
     "height": 34
    },
    "colab_type": "code",
    "id": "5qLtGyvasWYZ",
    "outputId": "5b8d7cd6-c6dc-4eb9-b5ea-c268be29bb76"
   },
   "outputs": [
    {
     "data": {
      "text/plain": [
       "(80332, 11)"
      ]
     },
     "execution_count": 14,
     "metadata": {},
     "output_type": "execute_result"
    }
   ],
   "source": [
    "df.shape"
   ]
  },
  {
   "cell_type": "markdown",
   "metadata": {
    "colab_type": "text",
    "id": "oBD1mAWfbLpl"
   },
   "source": [
    "One useful thing to know is where have happened most of the sightings. It is the USA."
   ]
  },
  {
   "cell_type": "code",
   "execution_count": 15,
   "metadata": {
    "colab": {
     "base_uri": "https://localhost:8080/",
     "height": 119
    },
    "colab_type": "code",
    "id": "f0cV0kmRo7K7",
    "outputId": "fa802c12-0d0e-4a0c-f64b-eb59fa1c592a"
   },
   "outputs": [
    {
     "data": {
      "text/plain": [
       "us    65114\n",
       "ca     3000\n",
       "gb     1905\n",
       "au      538\n",
       "de      105\n",
       "Name: country, dtype: int64"
      ]
     },
     "execution_count": 15,
     "metadata": {},
     "output_type": "execute_result"
    }
   ],
   "source": [
    "df.country.value_counts()"
   ]
  },
  {
   "cell_type": "code",
   "execution_count": 16,
   "metadata": {
    "colab": {
     "base_uri": "https://localhost:8080/",
     "height": 404
    },
    "colab_type": "code",
    "id": "aPjR6DuYyrAy",
    "outputId": "13ddd0e3-bc4b-4d44-ba19-6296736dbdf2"
   },
   "outputs": [
    {
     "data": {
      "image/png": "[encoded data removed]",
      "text/plain": [
       "<Figure size 1440x432 with 1 Axes>"
      ]
     },
     "metadata": {
      "needs_background": "light"
     },
     "output_type": "display_data"
    }
   ],
   "source": [
    "plt.figure(figsize=(20, 6))\n",
    "plt.title('UFO sightings by country')\n",
    "sns.countplot(x=\"country\", data=df);"
   ]
  },
  {
   "cell_type": "code",
   "execution_count": 17,
   "metadata": {
    "colab": {
     "base_uri": "https://localhost:8080/",
     "height": 187
    },
    "colab_type": "code",
    "id": "9UO4Gf4lPBK6",
    "outputId": "4a6aa2f4-aa06-4d58-870c-26e2623d475e"
   },
   "outputs": [
    {
     "data": {
      "text/plain": [
       "array([1906., 1910., 1916., 1920., 1925., 1929., 1930., 1931., 1933.,\n",
       "       1934., 1936., 1937., 1939., 1941., 1942., 1943., 1944., 1945.,\n",
       "       1946., 1947., 1948., 1949., 1950., 1951., 1952., 1953., 1954.,\n",
       "       1955., 1956., 1957., 1958., 1959., 1960., 1961., 1962., 1963.,\n",
       "       1964., 1965., 1966., 1967., 1968., 1969., 1970., 1971., 1972.,\n",
       "       1973., 1974., 1975., 1976., 1977., 1978., 1979., 1980., 1981.,\n",
       "       1982., 1983., 1984., 1985., 1986., 1987., 1988., 1989., 1990.,\n",
       "       1991., 1992., 1993., 1994., 1995., 1996., 1997., 1998., 1999.,\n",
       "       2000., 2001., 2002., 2003., 2004., 2005., 2006., 2007., 2008.,\n",
       "       2009., 2010., 2011., 2012., 2013., 2014.,   nan])"
      ]
     },
     "execution_count": 17,
     "metadata": {},
     "output_type": "execute_result"
    }
   ],
   "source": [
    "df['year'] = df.datetime.dt.year\n",
    "aux_array = df.year.unique()\n",
    "aux_array.sort()\n",
    "aux_array"
   ]
  },
  {
   "cell_type": "markdown",
   "metadata": {
    "colab_type": "text",
    "id": "TkECZNXRb0JG"
   },
   "source": [
    "Another thing to consider is how frecuent these kind of events have happened in the past"
   ]
  },
  {
   "cell_type": "code",
   "execution_count": 18,
   "metadata": {
    "colab": {
     "base_uri": "https://localhost:8080/",
     "height": 426
    },
    "colab_type": "code",
    "id": "2Csh1CzfQDzk",
    "outputId": "ca23267a-918d-4d1d-d22f-6e737813865b"
   },
   "outputs": [
    {
     "data": {
      "image/png": "[encoded data removed]",
      "text/plain": [
       "<Figure size 1440x432 with 1 Axes>"
      ]
     },
     "metadata": {
      "needs_background": "light"
     },
     "output_type": "display_data"
    }
   ],
   "source": [
    "plt.figure(figsize=(20, 6))\n",
    "plt.xticks(rotation=45)\n",
    "plt.title('UFO sightings by year')\n",
    "g = sns.countplot(x=\"year\", data=df);"
   ]
  },
  {
   "cell_type": "markdown",
   "metadata": {
    "colab_type": "text",
    "id": "nln9wW3HcGZH"
   },
   "source": [
    "It looks that most of the sightings occured from the 90's to the present."
   ]
  },
  {
   "cell_type": "code",
   "execution_count": 19,
   "metadata": {
    "colab": {
     "base_uri": "https://localhost:8080/",
     "height": 34
    },
    "colab_type": "code",
    "id": "xoqkOB1YRM1Q",
    "outputId": "d650d9d5-de91-4d43-9127-1215752c2c34"
   },
   "outputs": [
    {
     "data": {
      "text/plain": [
       "array([ 1.,  2.,  3.,  4.,  5.,  6.,  7.,  8.,  9., 10., 11., 12., nan])"
      ]
     },
     "execution_count": 19,
     "metadata": {},
     "output_type": "execute_result"
    }
   ],
   "source": [
    "df['month'] = df.datetime.dt.month\n",
    "aux_array = df.month.unique()\n",
    "aux_array.sort()\n",
    "aux_array"
   ]
  },
  {
   "cell_type": "code",
   "execution_count": 20,
   "metadata": {
    "colab": {
     "base_uri": "https://localhost:8080/",
     "height": 417
    },
    "colab_type": "code",
    "id": "SNzPcBv4SP9M",
    "outputId": "c76b17f0-f9f3-40bf-df07-240a4a5a8eb6"
   },
   "outputs": [
    {
     "data": {
      "image/png": "[encoded data removed]",
      "text/plain": [
       "<Figure size 1440x432 with 1 Axes>"
      ]
     },
     "metadata": {
      "needs_background": "light"
     },
     "output_type": "display_data"
    }
   ],
   "source": [
    "plt.figure(figsize=(20, 6))\n",
    "plt.xticks(rotation=45)\n",
    "plt.title('UFO sightings by month')\n",
    "g = sns.countplot(x=\"month\", data=df);"
   ]
  },
  {
   "cell_type": "markdown",
   "metadata": {
    "colab_type": "text",
    "id": "nxKPFQ2xcnyG"
   },
   "source": [
    "It seems that the best time of the year to see an UFO is between June and September."
   ]
  },
  {
   "cell_type": "code",
   "execution_count": 21,
   "metadata": {
    "colab": {
     "base_uri": "https://localhost:8080/",
     "height": 51
    },
    "colab_type": "code",
    "id": "WEDP-tKaSXON",
    "outputId": "f2efd00c-23fe-4bb0-bc22-074399fd0a05"
   },
   "outputs": [
    {
     "data": {
      "text/plain": [
       "array([ 0.,  1.,  2.,  3.,  4.,  5.,  6.,  7.,  8.,  9., 10., 11., 12.,\n",
       "       13., 14., 15., 16., 17., 18., 19., 20., 21., 22., 23., nan])"
      ]
     },
     "execution_count": 21,
     "metadata": {},
     "output_type": "execute_result"
    }
   ],
   "source": [
    "df['hour'] = df.datetime.dt.hour\n",
    "aux_array = df.hour.unique()\n",
    "aux_array.sort()\n",
    "aux_array"
   ]
  },
  {
   "cell_type": "code",
   "execution_count": 22,
   "metadata": {
    "colab": {
     "base_uri": "https://localhost:8080/",
     "height": 417
    },
    "colab_type": "code",
    "id": "x0BAzA49SXhO",
    "outputId": "bfd9b517-4131-4d52-e9e9-051a6497925d"
   },
   "outputs": [
    {
     "data": {
      "image/png": "[encoded data removed]",
      "text/plain": [
       "<Figure size 1440x432 with 1 Axes>"
      ]
     },
     "metadata": {
      "needs_background": "light"
     },
     "output_type": "display_data"
    }
   ],
   "source": [
    "plt.figure(figsize=(20, 6))\n",
    "plt.xticks(rotation=45)\n",
    "plt.title('UFO sightings by hour')\n",
    "g = sns.countplot(x=\"hour\", data=df);"
   ]
  },
  {
   "cell_type": "markdown",
   "metadata": {
    "colab_type": "text",
    "id": "8hfu9QYidBVN"
   },
   "source": [
    "And the best time is between 8PM and midnight"
   ]
  },
  {
   "cell_type": "code",
   "execution_count": 23,
   "metadata": {
    "colab": {
     "base_uri": "https://localhost:8080/",
     "height": 436
    },
    "colab_type": "code",
    "id": "Ohyp-k3HSXe4",
    "outputId": "86dd9119-613a-44c0-92c5-131b310a942e"
   },
   "outputs": [
    {
     "data": {
      "image/png": "[encoded data removed]",
      "text/plain": [
       "<Figure size 1440x432 with 1 Axes>"
      ]
     },
     "metadata": {
      "needs_background": "light"
     },
     "output_type": "display_data"
    }
   ],
   "source": [
    "plt.figure(figsize=(20, 6))\n",
    "plt.xticks(rotation=45)\n",
    "plt.title('Shape of UFO sightings')\n",
    "g = sns.countplot(x=\"shape\", data=df);"
   ]
  },
  {
   "cell_type": "markdown",
   "metadata": {
    "colab_type": "text",
    "id": "f6PankqQdZIo"
   },
   "source": [
    "The most common shape of the sighting is 'light'\n",
    "\n",
    "## The best place and time... (Hypothesis)\n",
    "\n",
    "Given all this information, it is important to start thinking about a solution for the Strage Man. What he wants is to know to best place and time to see an UFO. However, because we don't have much information about our client, it is necesary to make some educated guesses:\n",
    "\n",
    "The first one, is that probably, the Strange man may want to see the UFO by himself wich means he'd prefer a **city** rather than a **country** or a **state** to watch because of its smaller size.\n",
    "\n",
    "The second guess it that, though the last data available comes from 2014. We should take into considaration the 5 last years beacause it would be more probable than taking into considaration data from 1924 (unless the Strange man had a time machine)."
   ]
  },
  {
   "cell_type": "code",
   "execution_count": 24,
   "metadata": {
    "colab": {
     "base_uri": "https://localhost:8080/",
     "height": 119
    },
    "colab_type": "code",
    "id": "08HuaFZOSXbN",
    "outputId": "267c742a-f0d2-4091-aef2-9f982f851c5a"
   },
   "outputs": [
    {
     "data": {
      "text/plain": [
       "1.0    639\n",
       "4.0    572\n",
       "2.0    481\n",
       "3.0    441\n",
       "5.0    119\n",
       "Name: month, dtype: int64"
      ]
     },
     "execution_count": 24,
     "metadata": {},
     "output_type": "execute_result"
    }
   ],
   "source": [
    "df[df.year == 2014].month.value_counts()\n",
    "\n",
    "# The data only has the first 5 months of 2014"
   ]
  },
  {
   "cell_type": "code",
   "execution_count": 25,
   "metadata": {
    "colab": {
     "base_uri": "https://localhost:8080/",
     "height": 34
    },
    "colab_type": "code",
    "id": "nUyFE-edL5aB",
    "outputId": "34615faa-27e8-4887-cd6f-5623004aec8c"
   },
   "outputs": [
    {
     "data": {
      "text/plain": [
       "(25887, 14)"
      ]
     },
     "execution_count": 25,
     "metadata": {},
     "output_type": "execute_result"
    }
   ],
   "source": [
    "df_real =df[df.year > 2009]\n",
    "df_real.shape"
   ]
  },
  {
   "cell_type": "code",
   "execution_count": 26,
   "metadata": {
    "colab": {
     "base_uri": "https://localhost:8080/",
     "height": 204
    },
    "colab_type": "code",
    "id": "oaxPuJPfgX9D",
    "outputId": "fcd169f3-6d7f-4956-9166-a66e2b40b027"
   },
   "outputs": [
    {
     "data": {
      "text/plain": [
       "seattle         132\n",
       "las vegas       121\n",
       "portland        120\n",
       "phoenix         100\n",
       "orlando          93\n",
       "springfield      90\n",
       "myrtle beach     85\n",
       "miami            83\n",
       "albuquerque      82\n",
       "sacramento       78\n",
       "Name: city, dtype: int64"
      ]
     },
     "execution_count": 26,
     "metadata": {},
     "output_type": "execute_result"
    }
   ],
   "source": [
    "df_real.city.value_counts().head(10)"
   ]
  },
  {
   "cell_type": "markdown",
   "metadata": {
    "colab_type": "text",
    "id": "8bU88A3DhfW-"
   },
   "source": [
    "**So Seattle is the city with the most sightings from 2009 to 2014. Historically, it also has the most sightings**"
   ]
  },
  {
   "cell_type": "code",
   "execution_count": 27,
   "metadata": {
    "colab": {
     "base_uri": "https://localhost:8080/",
     "height": 204
    },
    "colab_type": "code",
    "id": "FtajJ7DAYcJM",
    "outputId": "9577cac2-d1cb-49a1-901d-ee832e7c4356"
   },
   "outputs": [
    {
     "data": {
      "text/plain": [
       "seattle        525\n",
       "phoenix        454\n",
       "portland       374\n",
       "las vegas      368\n",
       "los angeles    353\n",
       "san diego      338\n",
       "houston        297\n",
       "chicago        265\n",
       "tucson         241\n",
       "miami          239\n",
       "Name: city, dtype: int64"
      ]
     },
     "execution_count": 27,
     "metadata": {},
     "output_type": "execute_result"
    }
   ],
   "source": [
    "df.city.value_counts().head(10)"
   ]
  },
  {
   "cell_type": "code",
   "execution_count": 28,
   "metadata": {
    "colab": {},
    "colab_type": "code",
    "id": "mFqAzJMBiIn9"
   },
   "outputs": [],
   "source": [
    "df_seattle = df_real[df_real.city == 'seattle']"
   ]
  },
  {
   "cell_type": "code",
   "execution_count": 29,
   "metadata": {
    "colab": {
     "base_uri": "https://localhost:8080/",
     "height": 417
    },
    "colab_type": "code",
    "id": "V4bftNNWiWmW",
    "outputId": "aea22e0d-9613-4868-fec2-2f4a56cdc3e3"
   },
   "outputs": [
    {
     "data": {
      "image/png": "[encoded data removed]",
      "text/plain": [
       "<Figure size 1440x432 with 1 Axes>"
      ]
     },
     "metadata": {
      "needs_background": "light"
     },
     "output_type": "display_data"
    }
   ],
   "source": [
    "plt.figure(figsize=(20, 6))\n",
    "plt.xticks(rotation=45)\n",
    "plt.title('UFO sightings in Seattle by hour')\n",
    "g = sns.countplot(x=\"hour\", data=df_seattle);"
   ]
  },
  {
   "cell_type": "code",
   "execution_count": 30,
   "metadata": {
    "colab": {
     "base_uri": "https://localhost:8080/",
     "height": 417
    },
    "colab_type": "code",
    "id": "v3N6vZSeYDMF",
    "outputId": "04884db0-3315-4622-9497-7483cdbadcc4"
   },
   "outputs": [
    {
     "data": {
      "image/png": "[encoded data removed]",
      "text/plain": [
       "<Figure size 1440x432 with 1 Axes>"
      ]
     },
     "metadata": {
      "needs_background": "light"
     },
     "output_type": "display_data"
    }
   ],
   "source": [
    "plt.figure(figsize=(20, 6))\n",
    "plt.xticks(rotation=45)\n",
    "plt.title('UFO sightings in Seattle by month')\n",
    "g = sns.countplot(x=\"month\", data=df_seattle);"
   ]
  },
  {
   "cell_type": "markdown",
   "metadata": {
    "colab_type": "text",
    "id": "0ulI36dHiIv8"
   },
   "source": [
    "**Finally we can conclude that the best place to sight an UFO is Seattle in the USA, in the month of July, between 22 hours and midnight.** Other actions that can be taking into consideration is the use of **latitude and longitude** variables instead of **cities** to determine the best place to sight an UFO.\n",
    "."
   ]
  }
 ],
 "metadata": {
  "colab": {
   "collapsed_sections": [],
   "name": "X-Files.ipynb",
   "provenance": []
  },
  "kernelspec": {
   "display_name": "Python 3",
   "language": "python",
   "name": "python3"
  },
  "language_info": {
   "codemirror_mode": {
    "name": "ipython",
    "version": 3
   },
   "file_extension": ".py",
   "mimetype": "text/x-python",
   "name": "python",
   "nbconvert_exporter": "python",
   "pygments_lexer": "ipython3",
   "version": "3.7.5"
  }
 },
 "nbformat": 4,
 "nbformat_minor": 4
}
